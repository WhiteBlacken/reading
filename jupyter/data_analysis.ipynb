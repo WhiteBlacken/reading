{
 "cells": [
  {
   "cell_type": "code",
   "execution_count": null,
   "outputs": [],
   "source": [
    "# Luqi"
   ],
   "metadata": {
    "collapsed": false,
    "pycharm": {
     "name": "#%%\n"
    }
   }
  },
  {
   "cell_type": "code",
   "execution_count": 8,
   "metadata": {
    "collapsed": true
   },
   "outputs": [
    {
     "data": {
      "text/plain": "             luqi\ncount  100.000000\nmean   132.418131\nstd     98.724012\nmin      9.126692\n25%     54.515351\n50%    112.627803\n75%    181.049308\nmax    529.090371",
      "text/html": "<div>\n<style scoped>\n    .dataframe tbody tr th:only-of-type {\n        vertical-align: middle;\n    }\n\n    .dataframe tbody tr th {\n        vertical-align: top;\n    }\n\n    .dataframe thead th {\n        text-align: right;\n    }\n</style>\n<table border=\"1\" class=\"dataframe\">\n  <thead>\n    <tr style=\"text-align: right;\">\n      <th></th>\n      <th>luqi</th>\n    </tr>\n  </thead>\n  <tbody>\n    <tr>\n      <th>count</th>\n      <td>100.000000</td>\n    </tr>\n    <tr>\n      <th>mean</th>\n      <td>132.418131</td>\n    </tr>\n    <tr>\n      <th>std</th>\n      <td>98.724012</td>\n    </tr>\n    <tr>\n      <th>min</th>\n      <td>9.126692</td>\n    </tr>\n    <tr>\n      <th>25%</th>\n      <td>54.515351</td>\n    </tr>\n    <tr>\n      <th>50%</th>\n      <td>112.627803</td>\n    </tr>\n    <tr>\n      <th>75%</th>\n      <td>181.049308</td>\n    </tr>\n    <tr>\n      <th>max</th>\n      <td>529.090371</td>\n    </tr>\n  </tbody>\n</table>\n</div>"
     },
     "execution_count": 8,
     "metadata": {},
     "output_type": "execute_result"
    }
   ],
   "source": [
    "# saccade velocity\n",
    "\n",
    "import pandas as pd\n",
    "data = pd.read_csv('data/velocity.csv')\n",
    "\n",
    "data.describe()"
   ]
  },
  {
   "cell_type": "code",
   "execution_count": 20,
   "outputs": [
    {
     "data": {
      "text/plain": "         velocity\ncount   80.000000\nmean   156.011174\nstd    143.556996\nmin     14.304080\n25%     53.624248\n50%    101.687239\n75%    195.923136\nmax    809.117674",
      "text/html": "<div>\n<style scoped>\n    .dataframe tbody tr th:only-of-type {\n        vertical-align: middle;\n    }\n\n    .dataframe tbody tr th {\n        vertical-align: top;\n    }\n\n    .dataframe thead th {\n        text-align: right;\n    }\n</style>\n<table border=\"1\" class=\"dataframe\">\n  <thead>\n    <tr style=\"text-align: right;\">\n      <th></th>\n      <th>velocity</th>\n    </tr>\n  </thead>\n  <tbody>\n    <tr>\n      <th>count</th>\n      <td>80.000000</td>\n    </tr>\n    <tr>\n      <th>mean</th>\n      <td>156.011174</td>\n    </tr>\n    <tr>\n      <th>std</th>\n      <td>143.556996</td>\n    </tr>\n    <tr>\n      <th>min</th>\n      <td>14.304080</td>\n    </tr>\n    <tr>\n      <th>25%</th>\n      <td>53.624248</td>\n    </tr>\n    <tr>\n      <th>50%</th>\n      <td>101.687239</td>\n    </tr>\n    <tr>\n      <th>75%</th>\n      <td>195.923136</td>\n    </tr>\n    <tr>\n      <th>max</th>\n      <td>809.117674</td>\n    </tr>\n  </tbody>\n</table>\n</div>"
     },
     "execution_count": 20,
     "metadata": {},
     "output_type": "execute_result"
    }
   ],
   "source": [
    "lq_1229 = pd.read_csv('data/luqi-1229.csv')\n",
    "lq_1229.describe()"
   ],
   "metadata": {
    "collapsed": false,
    "pycharm": {
     "name": "#%%\n"
    }
   }
  },
  {
   "cell_type": "code",
   "execution_count": 10,
   "outputs": [
    {
     "data": {
      "text/plain": "         velocity\ncount   62.000000\nmean    92.443037\nstd    111.848512\nmin      1.240749\n25%     25.133194\n50%     51.772039\n75%    102.681057\nmax    545.572671",
      "text/html": "<div>\n<style scoped>\n    .dataframe tbody tr th:only-of-type {\n        vertical-align: middle;\n    }\n\n    .dataframe tbody tr th {\n        vertical-align: top;\n    }\n\n    .dataframe thead th {\n        text-align: right;\n    }\n</style>\n<table border=\"1\" class=\"dataframe\">\n  <thead>\n    <tr style=\"text-align: right;\">\n      <th></th>\n      <th>velocity</th>\n    </tr>\n  </thead>\n  <tbody>\n    <tr>\n      <th>count</th>\n      <td>62.000000</td>\n    </tr>\n    <tr>\n      <th>mean</th>\n      <td>92.443037</td>\n    </tr>\n    <tr>\n      <th>std</th>\n      <td>111.848512</td>\n    </tr>\n    <tr>\n      <th>min</th>\n      <td>1.240749</td>\n    </tr>\n    <tr>\n      <th>25%</th>\n      <td>25.133194</td>\n    </tr>\n    <tr>\n      <th>50%</th>\n      <td>51.772039</td>\n    </tr>\n    <tr>\n      <th>75%</th>\n      <td>102.681057</td>\n    </tr>\n    <tr>\n      <th>max</th>\n      <td>545.572671</td>\n    </tr>\n  </tbody>\n</table>\n</div>"
     },
     "execution_count": 10,
     "metadata": {},
     "output_type": "execute_result"
    }
   ],
   "source": [
    "qxy_1253 = pd.read_csv('data/qxy-1253.csv')\n",
    "qxy_1253.describe()\n"
   ],
   "metadata": {
    "collapsed": false,
    "pycharm": {
     "name": "#%%\n"
    }
   }
  },
  {
   "cell_type": "code",
   "execution_count": 11,
   "outputs": [
    {
     "data": {
      "text/plain": "         velocity\ncount   70.000000\nmean   121.759297\nstd    144.968304\nmin      4.652508\n25%     28.987429\n50%     53.411252\n75%    195.011125\nmax    825.840478",
      "text/html": "<div>\n<style scoped>\n    .dataframe tbody tr th:only-of-type {\n        vertical-align: middle;\n    }\n\n    .dataframe tbody tr th {\n        vertical-align: top;\n    }\n\n    .dataframe thead th {\n        text-align: right;\n    }\n</style>\n<table border=\"1\" class=\"dataframe\">\n  <thead>\n    <tr style=\"text-align: right;\">\n      <th></th>\n      <th>velocity</th>\n    </tr>\n  </thead>\n  <tbody>\n    <tr>\n      <th>count</th>\n      <td>70.000000</td>\n    </tr>\n    <tr>\n      <th>mean</th>\n      <td>121.759297</td>\n    </tr>\n    <tr>\n      <th>std</th>\n      <td>144.968304</td>\n    </tr>\n    <tr>\n      <th>min</th>\n      <td>4.652508</td>\n    </tr>\n    <tr>\n      <th>25%</th>\n      <td>28.987429</td>\n    </tr>\n    <tr>\n      <th>50%</th>\n      <td>53.411252</td>\n    </tr>\n    <tr>\n      <th>75%</th>\n      <td>195.011125</td>\n    </tr>\n    <tr>\n      <th>max</th>\n      <td>825.840478</td>\n    </tr>\n  </tbody>\n</table>\n</div>"
     },
     "execution_count": 11,
     "metadata": {},
     "output_type": "execute_result"
    }
   ],
   "source": [
    "qxy_1281 = pd.read_csv('data/qxy-1281.csv')\n",
    "qxy_1281.describe()"
   ],
   "metadata": {
    "collapsed": false,
    "pycharm": {
     "name": "#%%\n"
    }
   }
  },
  {
   "cell_type": "code",
   "execution_count": 15,
   "outputs": [
    {
     "data": {
      "text/plain": "         velocity\ncount   77.000000\nmean   100.740872\nstd    119.906074\nmin      9.382170\n25%     29.445872\n50%     49.198246\n75%     97.700632\nmax    579.545251",
      "text/html": "<div>\n<style scoped>\n    .dataframe tbody tr th:only-of-type {\n        vertical-align: middle;\n    }\n\n    .dataframe tbody tr th {\n        vertical-align: top;\n    }\n\n    .dataframe thead th {\n        text-align: right;\n    }\n</style>\n<table border=\"1\" class=\"dataframe\">\n  <thead>\n    <tr style=\"text-align: right;\">\n      <th></th>\n      <th>velocity</th>\n    </tr>\n  </thead>\n  <tbody>\n    <tr>\n      <th>count</th>\n      <td>77.000000</td>\n    </tr>\n    <tr>\n      <th>mean</th>\n      <td>100.740872</td>\n    </tr>\n    <tr>\n      <th>std</th>\n      <td>119.906074</td>\n    </tr>\n    <tr>\n      <th>min</th>\n      <td>9.382170</td>\n    </tr>\n    <tr>\n      <th>25%</th>\n      <td>29.445872</td>\n    </tr>\n    <tr>\n      <th>50%</th>\n      <td>49.198246</td>\n    </tr>\n    <tr>\n      <th>75%</th>\n      <td>97.700632</td>\n    </tr>\n    <tr>\n      <th>max</th>\n      <td>579.545251</td>\n    </tr>\n  </tbody>\n</table>\n</div>"
     },
     "execution_count": 15,
     "metadata": {},
     "output_type": "execute_result"
    }
   ],
   "source": [
    "qxy_1283 = pd.read_csv('data/qxy-1283.csv')\n",
    "qxy_1283.describe()"
   ],
   "metadata": {
    "collapsed": false,
    "pycharm": {
     "name": "#%%\n"
    }
   }
  },
  {
   "cell_type": "code",
   "execution_count": 14,
   "outputs": [
    {
     "data": {
      "text/plain": "         velocity\ncount   67.000000\nmean   108.013714\nstd    121.932290\nmin      3.305896\n25%     27.401651\n50%     51.056742\n75%    134.881327\nmax    431.509412",
      "text/html": "<div>\n<style scoped>\n    .dataframe tbody tr th:only-of-type {\n        vertical-align: middle;\n    }\n\n    .dataframe tbody tr th {\n        vertical-align: top;\n    }\n\n    .dataframe thead th {\n        text-align: right;\n    }\n</style>\n<table border=\"1\" class=\"dataframe\">\n  <thead>\n    <tr style=\"text-align: right;\">\n      <th></th>\n      <th>velocity</th>\n    </tr>\n  </thead>\n  <tbody>\n    <tr>\n      <th>count</th>\n      <td>67.000000</td>\n    </tr>\n    <tr>\n      <th>mean</th>\n      <td>108.013714</td>\n    </tr>\n    <tr>\n      <th>std</th>\n      <td>121.932290</td>\n    </tr>\n    <tr>\n      <th>min</th>\n      <td>3.305896</td>\n    </tr>\n    <tr>\n      <th>25%</th>\n      <td>27.401651</td>\n    </tr>\n    <tr>\n      <th>50%</th>\n      <td>51.056742</td>\n    </tr>\n    <tr>\n      <th>75%</th>\n      <td>134.881327</td>\n    </tr>\n    <tr>\n      <th>max</th>\n      <td>431.509412</td>\n    </tr>\n  </tbody>\n</table>\n</div>"
     },
     "execution_count": 14,
     "metadata": {},
     "output_type": "execute_result"
    }
   ],
   "source": [
    "qxy_1285 = pd.read_csv('data/qxy-1285.csv')\n",
    "qxy_1285.describe()"
   ],
   "metadata": {
    "collapsed": false,
    "pycharm": {
     "name": "#%%\n"
    }
   }
  },
  {
   "cell_type": "code",
   "execution_count": 16,
   "outputs": [
    {
     "data": {
      "text/plain": "         velocity\ncount   41.000000\nmean    53.182947\nstd     63.870668\nmin      0.779977\n25%      8.783653\n50%     20.028298\n75%     70.653864\nmax    207.597594",
      "text/html": "<div>\n<style scoped>\n    .dataframe tbody tr th:only-of-type {\n        vertical-align: middle;\n    }\n\n    .dataframe tbody tr th {\n        vertical-align: top;\n    }\n\n    .dataframe thead th {\n        text-align: right;\n    }\n</style>\n<table border=\"1\" class=\"dataframe\">\n  <thead>\n    <tr style=\"text-align: right;\">\n      <th></th>\n      <th>velocity</th>\n    </tr>\n  </thead>\n  <tbody>\n    <tr>\n      <th>count</th>\n      <td>41.000000</td>\n    </tr>\n    <tr>\n      <th>mean</th>\n      <td>53.182947</td>\n    </tr>\n    <tr>\n      <th>std</th>\n      <td>63.870668</td>\n    </tr>\n    <tr>\n      <th>min</th>\n      <td>0.779977</td>\n    </tr>\n    <tr>\n      <th>25%</th>\n      <td>8.783653</td>\n    </tr>\n    <tr>\n      <th>50%</th>\n      <td>20.028298</td>\n    </tr>\n    <tr>\n      <th>75%</th>\n      <td>70.653864</td>\n    </tr>\n    <tr>\n      <th>max</th>\n      <td>207.597594</td>\n    </tr>\n  </tbody>\n</table>\n</div>"
     },
     "execution_count": 16,
     "metadata": {},
     "output_type": "execute_result"
    }
   ],
   "source": [
    "pwt_1243 = pd.read_csv('data/pwt-1243.csv')\n",
    "pwt_1243.describe()"
   ],
   "metadata": {
    "collapsed": false,
    "pycharm": {
     "name": "#%%\n"
    }
   }
  },
  {
   "cell_type": "code",
   "execution_count": 17,
   "outputs": [
    {
     "data": {
      "text/plain": "         velocity\ncount   63.000000\nmean    88.355223\nstd    116.853911\nmin      5.000487\n25%     17.504209\n50%     45.747401\n75%    103.410702\nmax    648.949950",
      "text/html": "<div>\n<style scoped>\n    .dataframe tbody tr th:only-of-type {\n        vertical-align: middle;\n    }\n\n    .dataframe tbody tr th {\n        vertical-align: top;\n    }\n\n    .dataframe thead th {\n        text-align: right;\n    }\n</style>\n<table border=\"1\" class=\"dataframe\">\n  <thead>\n    <tr style=\"text-align: right;\">\n      <th></th>\n      <th>velocity</th>\n    </tr>\n  </thead>\n  <tbody>\n    <tr>\n      <th>count</th>\n      <td>63.000000</td>\n    </tr>\n    <tr>\n      <th>mean</th>\n      <td>88.355223</td>\n    </tr>\n    <tr>\n      <th>std</th>\n      <td>116.853911</td>\n    </tr>\n    <tr>\n      <th>min</th>\n      <td>5.000487</td>\n    </tr>\n    <tr>\n      <th>25%</th>\n      <td>17.504209</td>\n    </tr>\n    <tr>\n      <th>50%</th>\n      <td>45.747401</td>\n    </tr>\n    <tr>\n      <th>75%</th>\n      <td>103.410702</td>\n    </tr>\n    <tr>\n      <th>max</th>\n      <td>648.949950</td>\n    </tr>\n  </tbody>\n</table>\n</div>"
     },
     "execution_count": 17,
     "metadata": {},
     "output_type": "execute_result"
    }
   ],
   "source": [
    "pwt_1245 = pd.read_csv('data/pwt-1245.csv')\n",
    "pwt_1245.describe()"
   ],
   "metadata": {
    "collapsed": false,
    "pycharm": {
     "name": "#%%\n"
    }
   }
  },
  {
   "cell_type": "code",
   "execution_count": 18,
   "outputs": [
    {
     "data": {
      "text/plain": "         velocity\ncount   91.000000\nmean   141.641239\nstd    119.442314\nmin      7.862293\n25%     54.695675\n50%    102.928570\n75%    196.672119\nmax    639.694469",
      "text/html": "<div>\n<style scoped>\n    .dataframe tbody tr th:only-of-type {\n        vertical-align: middle;\n    }\n\n    .dataframe tbody tr th {\n        vertical-align: top;\n    }\n\n    .dataframe thead th {\n        text-align: right;\n    }\n</style>\n<table border=\"1\" class=\"dataframe\">\n  <thead>\n    <tr style=\"text-align: right;\">\n      <th></th>\n      <th>velocity</th>\n    </tr>\n  </thead>\n  <tbody>\n    <tr>\n      <th>count</th>\n      <td>91.000000</td>\n    </tr>\n    <tr>\n      <th>mean</th>\n      <td>141.641239</td>\n    </tr>\n    <tr>\n      <th>std</th>\n      <td>119.442314</td>\n    </tr>\n    <tr>\n      <th>min</th>\n      <td>7.862293</td>\n    </tr>\n    <tr>\n      <th>25%</th>\n      <td>54.695675</td>\n    </tr>\n    <tr>\n      <th>50%</th>\n      <td>102.928570</td>\n    </tr>\n    <tr>\n      <th>75%</th>\n      <td>196.672119</td>\n    </tr>\n    <tr>\n      <th>max</th>\n      <td>639.694469</td>\n    </tr>\n  </tbody>\n</table>\n</div>"
     },
     "execution_count": 18,
     "metadata": {},
     "output_type": "execute_result"
    }
   ],
   "source": [
    "pwt_1288 = pd.read_csv('data/pwt-1288.csv')\n",
    "pwt_1288.describe()"
   ],
   "metadata": {
    "collapsed": false,
    "pycharm": {
     "name": "#%%\n"
    }
   }
  },
  {
   "cell_type": "code",
   "execution_count": 22,
   "outputs": [
    {
     "data": {
      "text/plain": "         velocity\ncount   77.000000\nmean    97.319989\nstd     91.198542\nmin      3.143014\n25%     25.338562\n50%     80.228601\n75%    135.311930\nmax    443.006002",
      "text/html": "<div>\n<style scoped>\n    .dataframe tbody tr th:only-of-type {\n        vertical-align: middle;\n    }\n\n    .dataframe tbody tr th {\n        vertical-align: top;\n    }\n\n    .dataframe thead th {\n        text-align: right;\n    }\n</style>\n<table border=\"1\" class=\"dataframe\">\n  <thead>\n    <tr style=\"text-align: right;\">\n      <th></th>\n      <th>velocity</th>\n    </tr>\n  </thead>\n  <tbody>\n    <tr>\n      <th>count</th>\n      <td>77.000000</td>\n    </tr>\n    <tr>\n      <th>mean</th>\n      <td>97.319989</td>\n    </tr>\n    <tr>\n      <th>std</th>\n      <td>91.198542</td>\n    </tr>\n    <tr>\n      <th>min</th>\n      <td>3.143014</td>\n    </tr>\n    <tr>\n      <th>25%</th>\n      <td>25.338562</td>\n    </tr>\n    <tr>\n      <th>50%</th>\n      <td>80.228601</td>\n    </tr>\n    <tr>\n      <th>75%</th>\n      <td>135.311930</td>\n    </tr>\n    <tr>\n      <th>max</th>\n      <td>443.006002</td>\n    </tr>\n  </tbody>\n</table>\n</div>"
     },
     "execution_count": 22,
     "metadata": {},
     "output_type": "execute_result"
    }
   ],
   "source": [
    "luzhouyang_1319 = pd.read_csv('data/luzhouyang-1319.csv')\n",
    "luzhouyang_1319.describe()"
   ],
   "metadata": {
    "collapsed": false,
    "pycharm": {
     "name": "#%%\n"
    }
   }
  }
 ],
 "metadata": {
  "kernelspec": {
   "display_name": "Python 3",
   "language": "python",
   "name": "python3"
  },
  "language_info": {
   "codemirror_mode": {
    "name": "ipython",
    "version": 2
   },
   "file_extension": ".py",
   "mimetype": "text/x-python",
   "name": "python",
   "nbconvert_exporter": "python",
   "pygments_lexer": "ipython2",
   "version": "2.7.6"
  }
 },
 "nbformat": 4,
 "nbformat_minor": 0
}