{
 "cells": [
  {
   "cell_type": "code",
   "execution_count": null,
   "outputs": [],
   "source": [
    "# Luqi"
   ],
   "metadata": {
    "collapsed": false,
    "pycharm": {
     "name": "#%%\n"
    }
   }
  },
  {
   "cell_type": "code",
   "execution_count": 1,
   "metadata": {
    "collapsed": true
   },
   "outputs": [
    {
     "data": {
      "text/plain": "         velocity\ncount  234.000000\nmean    51.501070\nstd     24.465294\nmin      3.361222\n25%     31.665988\n50%     50.412284\n75%     70.955024\nmax    113.797805",
      "text/html": "<div>\n<style scoped>\n    .dataframe tbody tr th:only-of-type {\n        vertical-align: middle;\n    }\n\n    .dataframe tbody tr th {\n        vertical-align: top;\n    }\n\n    .dataframe thead th {\n        text-align: right;\n    }\n</style>\n<table border=\"1\" class=\"dataframe\">\n  <thead>\n    <tr style=\"text-align: right;\">\n      <th></th>\n      <th>velocity</th>\n    </tr>\n  </thead>\n  <tbody>\n    <tr>\n      <th>count</th>\n      <td>234.000000</td>\n    </tr>\n    <tr>\n      <th>mean</th>\n      <td>51.501070</td>\n    </tr>\n    <tr>\n      <th>std</th>\n      <td>24.465294</td>\n    </tr>\n    <tr>\n      <th>min</th>\n      <td>3.361222</td>\n    </tr>\n    <tr>\n      <th>25%</th>\n      <td>31.665988</td>\n    </tr>\n    <tr>\n      <th>50%</th>\n      <td>50.412284</td>\n    </tr>\n    <tr>\n      <th>75%</th>\n      <td>70.955024</td>\n    </tr>\n    <tr>\n      <th>max</th>\n      <td>113.797805</td>\n    </tr>\n  </tbody>\n</table>\n</div>"
     },
     "execution_count": 1,
     "metadata": {},
     "output_type": "execute_result"
    }
   ],
   "source": [
    "# saccade velocity\n",
    "\n",
    "import pandas as pd\n",
    "luqi_1021 = pd.read_csv('data/luqi-1021.csv')\n",
    "\n",
    "luqi_1021.describe()"
   ]
  },
  {
   "cell_type": "code",
   "execution_count": null,
   "outputs": [],
   "source": [],
   "metadata": {
    "collapsed": false,
    "pycharm": {
     "name": "#%%\n"
    }
   }
  },
  {
   "cell_type": "code",
   "execution_count": 2,
   "outputs": [
    {
     "data": {
      "text/plain": "       experiment_id    article_id          time  word_watching  \\\ncount   1.757654e+06  1.757654e+06  1.757654e+06   1.757654e+06   \nmean    6.127969e+02  2.147854e+01  6.349015e+01   6.262325e-03   \nstd     2.159930e+01  5.271989e+00  4.738607e+01   7.888670e-02   \nmin     5.740000e+02  9.000000e+00  0.000000e+00   0.000000e+00   \n25%     5.910000e+02  1.700000e+01  2.700000e+01   0.000000e+00   \n50%     6.170000e+02  2.300000e+01  5.500000e+01   0.000000e+00   \n75%     6.310000e+02  2.600000e+01  8.700000e+01   0.000000e+00   \nmax     6.410000e+02  2.800000e+01  2.520000e+02   1.000000e+00   \n\n       word_understand  sentence_understand  mind_wandering  reading_times  \\\ncount     1.757654e+06         1.757654e+06    1.757654e+06   1.757654e+06   \nmean      9.778773e-01         8.474563e-01    8.518685e-01   3.895505e-01   \nstd       1.470825e-01         3.595472e-01    3.552304e-01   7.600566e-01   \nmin       0.000000e+00         0.000000e+00    0.000000e+00   0.000000e+00   \n25%       1.000000e+00         1.000000e+00    1.000000e+00   0.000000e+00   \n50%       1.000000e+00         1.000000e+00    1.000000e+00   0.000000e+00   \n75%       1.000000e+00         1.000000e+00    1.000000e+00   1.000000e+00   \nmax       1.000000e+00         1.000000e+00    1.000000e+00   1.100000e+01   \n\n       number_of_fixations  second_pass_dwell_time_of_sentence  \\\ncount         1.757654e+06                        1.757654e+06   \nmean          5.029357e-01                        5.517308e+01   \nstd           1.062555e+00                        6.823084e+01   \nmin           0.000000e+00                        0.000000e+00   \n25%           0.000000e+00                        0.000000e+00   \n50%           0.000000e+00                        5.498152e+01   \n75%           1.000000e+00                        8.876007e+01   \nmax           1.800000e+01                        6.530230e+02   \n\n       total_dwell_time_of_sentence  reading_times_of_sentence  \\\ncount                  1.757654e+06               1.757654e+06   \nmean                   1.564094e+03               4.391178e+00   \nstd                    2.272421e+03               6.503504e+00   \nmin                    0.000000e+00               0.000000e+00   \n25%                    0.000000e+00               0.000000e+00   \n50%                    5.067782e+02               1.534638e+00   \n75%                    2.524179e+03               7.121374e+00   \nmax                    1.373485e+04               4.478521e+01   \n\n       saccade_times_of_sentence  forward_times_of_sentence  \\\ncount               1.757654e+06               1.757654e+06   \nmean                6.096135e-01               3.886978e-01   \nstd                 9.827039e-01               6.584928e-01   \nmin                 0.000000e+00               0.000000e+00   \n25%                 0.000000e+00               0.000000e+00   \n50%                 0.000000e+00               0.000000e+00   \n75%                 8.820423e-01               5.880282e-01   \nmax                 6.115069e+00               4.688759e+00   \n\n       backward_times_of_sentence  \ncount                1.757654e+06  \nmean                 2.209157e-01  \nstd                  4.262770e-01  \nmin                  0.000000e+00  \n25%                  0.000000e+00  \n50%                  0.000000e+00  \n75%                  3.001016e-01  \nmax                  3.456344e+00  ",
      "text/html": "<div>\n<style scoped>\n    .dataframe tbody tr th:only-of-type {\n        vertical-align: middle;\n    }\n\n    .dataframe tbody tr th {\n        vertical-align: top;\n    }\n\n    .dataframe thead th {\n        text-align: right;\n    }\n</style>\n<table border=\"1\" class=\"dataframe\">\n  <thead>\n    <tr style=\"text-align: right;\">\n      <th></th>\n      <th>experiment_id</th>\n      <th>article_id</th>\n      <th>time</th>\n      <th>word_watching</th>\n      <th>word_understand</th>\n      <th>sentence_understand</th>\n      <th>mind_wandering</th>\n      <th>reading_times</th>\n      <th>number_of_fixations</th>\n      <th>second_pass_dwell_time_of_sentence</th>\n      <th>total_dwell_time_of_sentence</th>\n      <th>reading_times_of_sentence</th>\n      <th>saccade_times_of_sentence</th>\n      <th>forward_times_of_sentence</th>\n      <th>backward_times_of_sentence</th>\n    </tr>\n  </thead>\n  <tbody>\n    <tr>\n      <th>count</th>\n      <td>1.757654e+06</td>\n      <td>1.757654e+06</td>\n      <td>1.757654e+06</td>\n      <td>1.757654e+06</td>\n      <td>1.757654e+06</td>\n      <td>1.757654e+06</td>\n      <td>1.757654e+06</td>\n      <td>1.757654e+06</td>\n      <td>1.757654e+06</td>\n      <td>1.757654e+06</td>\n      <td>1.757654e+06</td>\n      <td>1.757654e+06</td>\n      <td>1.757654e+06</td>\n      <td>1.757654e+06</td>\n      <td>1.757654e+06</td>\n    </tr>\n    <tr>\n      <th>mean</th>\n      <td>6.127969e+02</td>\n      <td>2.147854e+01</td>\n      <td>6.349015e+01</td>\n      <td>6.262325e-03</td>\n      <td>9.778773e-01</td>\n      <td>8.474563e-01</td>\n      <td>8.518685e-01</td>\n      <td>3.895505e-01</td>\n      <td>5.029357e-01</td>\n      <td>5.517308e+01</td>\n      <td>1.564094e+03</td>\n      <td>4.391178e+00</td>\n      <td>6.096135e-01</td>\n      <td>3.886978e-01</td>\n      <td>2.209157e-01</td>\n    </tr>\n    <tr>\n      <th>std</th>\n      <td>2.159930e+01</td>\n      <td>5.271989e+00</td>\n      <td>4.738607e+01</td>\n      <td>7.888670e-02</td>\n      <td>1.470825e-01</td>\n      <td>3.595472e-01</td>\n      <td>3.552304e-01</td>\n      <td>7.600566e-01</td>\n      <td>1.062555e+00</td>\n      <td>6.823084e+01</td>\n      <td>2.272421e+03</td>\n      <td>6.503504e+00</td>\n      <td>9.827039e-01</td>\n      <td>6.584928e-01</td>\n      <td>4.262770e-01</td>\n    </tr>\n    <tr>\n      <th>min</th>\n      <td>5.740000e+02</td>\n      <td>9.000000e+00</td>\n      <td>0.000000e+00</td>\n      <td>0.000000e+00</td>\n      <td>0.000000e+00</td>\n      <td>0.000000e+00</td>\n      <td>0.000000e+00</td>\n      <td>0.000000e+00</td>\n      <td>0.000000e+00</td>\n      <td>0.000000e+00</td>\n      <td>0.000000e+00</td>\n      <td>0.000000e+00</td>\n      <td>0.000000e+00</td>\n      <td>0.000000e+00</td>\n      <td>0.000000e+00</td>\n    </tr>\n    <tr>\n      <th>25%</th>\n      <td>5.910000e+02</td>\n      <td>1.700000e+01</td>\n      <td>2.700000e+01</td>\n      <td>0.000000e+00</td>\n      <td>1.000000e+00</td>\n      <td>1.000000e+00</td>\n      <td>1.000000e+00</td>\n      <td>0.000000e+00</td>\n      <td>0.000000e+00</td>\n      <td>0.000000e+00</td>\n      <td>0.000000e+00</td>\n      <td>0.000000e+00</td>\n      <td>0.000000e+00</td>\n      <td>0.000000e+00</td>\n      <td>0.000000e+00</td>\n    </tr>\n    <tr>\n      <th>50%</th>\n      <td>6.170000e+02</td>\n      <td>2.300000e+01</td>\n      <td>5.500000e+01</td>\n      <td>0.000000e+00</td>\n      <td>1.000000e+00</td>\n      <td>1.000000e+00</td>\n      <td>1.000000e+00</td>\n      <td>0.000000e+00</td>\n      <td>0.000000e+00</td>\n      <td>5.498152e+01</td>\n      <td>5.067782e+02</td>\n      <td>1.534638e+00</td>\n      <td>0.000000e+00</td>\n      <td>0.000000e+00</td>\n      <td>0.000000e+00</td>\n    </tr>\n    <tr>\n      <th>75%</th>\n      <td>6.310000e+02</td>\n      <td>2.600000e+01</td>\n      <td>8.700000e+01</td>\n      <td>0.000000e+00</td>\n      <td>1.000000e+00</td>\n      <td>1.000000e+00</td>\n      <td>1.000000e+00</td>\n      <td>1.000000e+00</td>\n      <td>1.000000e+00</td>\n      <td>8.876007e+01</td>\n      <td>2.524179e+03</td>\n      <td>7.121374e+00</td>\n      <td>8.820423e-01</td>\n      <td>5.880282e-01</td>\n      <td>3.001016e-01</td>\n    </tr>\n    <tr>\n      <th>max</th>\n      <td>6.410000e+02</td>\n      <td>2.800000e+01</td>\n      <td>2.520000e+02</td>\n      <td>1.000000e+00</td>\n      <td>1.000000e+00</td>\n      <td>1.000000e+00</td>\n      <td>1.000000e+00</td>\n      <td>1.100000e+01</td>\n      <td>1.800000e+01</td>\n      <td>6.530230e+02</td>\n      <td>1.373485e+04</td>\n      <td>4.478521e+01</td>\n      <td>6.115069e+00</td>\n      <td>4.688759e+00</td>\n      <td>3.456344e+00</td>\n    </tr>\n  </tbody>\n</table>\n</div>"
     },
     "execution_count": 2,
     "metadata": {},
     "output_type": "execute_result"
    }
   ],
   "source": [
    "dataset = pd.read_csv('dataset/2022-11-17.csv')\n",
    "dataset.describe()"
   ],
   "metadata": {
    "collapsed": false,
    "pycharm": {
     "name": "#%%\n"
    }
   }
  },
  {
   "cell_type": "code",
   "execution_count": 5,
   "outputs": [
    {
     "data": {
      "text/plain": "               mean           max           min\ncount     67.000000     67.000000     67.000000\nmean    4488.813306   9254.462687   1610.835821\nstd     5351.650947   9040.267401   4138.645147\nmin      236.000000    246.000000    200.000000\n25%     1001.066667   1765.500000    218.000000\n50%     2747.666667   7329.000000    477.000000\n75%     5873.791667  13826.500000   1324.500000\nmax    27542.000000  39690.000000  27542.000000",
      "text/html": "<div>\n<style scoped>\n    .dataframe tbody tr th:only-of-type {\n        vertical-align: middle;\n    }\n\n    .dataframe tbody tr th {\n        vertical-align: top;\n    }\n\n    .dataframe thead th {\n        text-align: right;\n    }\n</style>\n<table border=\"1\" class=\"dataframe\">\n  <thead>\n    <tr style=\"text-align: right;\">\n      <th></th>\n      <th>mean</th>\n      <th>max</th>\n      <th>min</th>\n    </tr>\n  </thead>\n  <tbody>\n    <tr>\n      <th>count</th>\n      <td>67.000000</td>\n      <td>67.000000</td>\n      <td>67.000000</td>\n    </tr>\n    <tr>\n      <th>mean</th>\n      <td>4488.813306</td>\n      <td>9254.462687</td>\n      <td>1610.835821</td>\n    </tr>\n    <tr>\n      <th>std</th>\n      <td>5351.650947</td>\n      <td>9040.267401</td>\n      <td>4138.645147</td>\n    </tr>\n    <tr>\n      <th>min</th>\n      <td>236.000000</td>\n      <td>246.000000</td>\n      <td>200.000000</td>\n    </tr>\n    <tr>\n      <th>25%</th>\n      <td>1001.066667</td>\n      <td>1765.500000</td>\n      <td>218.000000</td>\n    </tr>\n    <tr>\n      <th>50%</th>\n      <td>2747.666667</td>\n      <td>7329.000000</td>\n      <td>477.000000</td>\n    </tr>\n    <tr>\n      <th>75%</th>\n      <td>5873.791667</td>\n      <td>13826.500000</td>\n      <td>1324.500000</td>\n    </tr>\n    <tr>\n      <th>max</th>\n      <td>27542.000000</td>\n      <td>39690.000000</td>\n      <td>27542.000000</td>\n    </tr>\n  </tbody>\n</table>\n</div>"
     },
     "execution_count": 5,
     "metadata": {},
     "output_type": "execute_result"
    }
   ],
   "source": [
    "interval = pd.read_csv('data/interval.csv')\n",
    "interval.describe()"
   ],
   "metadata": {
    "collapsed": false,
    "pycharm": {
     "name": "#%%\n"
    }
   }
  },
  {
   "cell_type": "code",
   "execution_count": 23,
   "outputs": [
    {
     "name": "stderr",
     "output_type": "stream",
     "text": [
      "C:\\Users\\20591\\AppData\\Local\\Temp\\ipykernel_9320\\849756618.py:17: UserWarning: \n",
      "\n",
      "`distplot` is a deprecated function and will be removed in seaborn v0.14.0.\n",
      "\n",
      "Please adapt your code to use either `displot` (a figure-level function with\n",
      "similar flexibility) or `histplot` (an axes-level function for histograms).\n",
      "\n",
      "For a guide to updating your code to use the new functions, please see\n",
      "https://gist.github.com/mwaskom/de44147ed2974457ad6372750bbe5751\n",
      "\n",
      "  g = sns.distplot(data,\n"
     ]
    },
    {
     "data": {
      "text/plain": "<Figure size 768x576 with 1 Axes>",
      "image/png": "[encoded data removed]"
     },
     "metadata": {},
     "output_type": "display_data"
    }
   ],
   "source": [
    "import seaborn as sns\n",
    "import matplotlib as mpl\n",
    "import matplotlib.pyplot as plt\n",
    "from scipy.stats import norm\n",
    "from scipy.stats import laplace\n",
    "\n",
    "\n",
    "data = pd.read_csv('data/interval.csv')\n",
    "data = list(data['interval'])\n",
    "# data = [item for item in data if item < 10000]\n",
    "\n",
    "sns.set_palette(\"hls\")\n",
    "#sns.set_style(\"whitegrid\")\n",
    "plt.figure(dpi=120)\n",
    "sns.set(style='dark')\n",
    "sns.set_style(\"dark\", {\"axes.facecolor\": \"#e9f3ea\"})\n",
    "g = sns.distplot(data,\n",
    "                 hist=True,\n",
    "                 kde=True,  # 开启核密度曲线kernel density estimate (KDE)\n",
    "                 kde_kws={'linestyle': '--', 'linewidth': '1', 'color': '#c72e29',\n",
    "                          # 设置外框线属性\n",
    "                          },\n",
    "                 fit=norm,\n",
    "                 color='#098154',\n",
    "                 axlabel='Standardized Residual',  # 设置x轴标题\n",
    "\n",
    "                 )\n",
    "\n",
    "plt.show()"
   ],
   "metadata": {
    "collapsed": false,
    "pycharm": {
     "name": "#%%\n"
    }
   }
  },
  {
   "cell_type": "code",
   "execution_count": null,
   "outputs": [],
   "source": [
    "\n",
    "import seaborn as sns\n",
    "import matplotlib as mpl\n",
    "import matplotlib.pyplot as plt\n",
    "from scipy.stats import norm\n",
    "from scipy.stats import laplace\n",
    "\n",
    "\n",
    "data = pd.read_csv('data/interval.csv')\n",
    "data = list(data['interval'])\n",
    "data = [item for item in data if item < 10000]\n",
    "\n",
    "sns.set_palette(\"hls\")\n",
    "#sns.set_style(\"whitegrid\")\n",
    "plt.figure(dpi=120)\n",
    "sns.set(style='dark')\n",
    "sns.set_style(\"dark\", {\"axes.facecolor\": \"#e9f3ea\"})\n",
    "g = sns.distplot(data,\n",
    "                 hist=True,\n",
    "                 kde=True,  # 开启核密度曲线kernel density estimate (KDE)\n",
    "                 kde_kws={'linestyle': '--', 'linewidth': '1', 'color': '#c72e29',\n",
    "                          # 设置外框线属性\n",
    "                          },\n",
    "                 fit=norm,\n",
    "                 color='#098154',\n",
    "                 axlabel='Standardized Residual',  # 设置x轴标题\n",
    "\n",
    "                 )\n",
    "\n",
    "plt.show()\n"
   ],
   "metadata": {
    "collapsed": false,
    "pycharm": {
     "name": "#%%\n"
    }
   }
  },
  {
   "cell_type": "code",
   "execution_count": 24,
   "outputs": [
    {
     "name": "stderr",
     "output_type": "stream",
     "text": [
      "C:\\Users\\20591\\AppData\\Local\\Temp\\ipykernel_9320\\3325916600.py:8: FutureWarning: \n",
      "\n",
      "`shade` is now deprecated in favor of `fill`; setting `fill=True`.\n",
      "This will become an error in seaborn v0.14.0; please update your code.\n",
      "\n",
      "  sns.kdeplot(df['interval'],shade=True)\n"
     ]
    },
    {
     "data": {
      "text/plain": "<Figure size 640x480 with 1 Axes>",
      "image/png": "[encoded data removed]"
     },
     "metadata": {},
     "output_type": "display_data"
    }
   ],
   "source": [
    "# libraries & dataset\n",
    "import seaborn as sns\n",
    "import matplotlib.pyplot as plt\n",
    "# set a grey background (use sns.set_theme() if seaborn version 0.11.0 or above)\n",
    "sns.set(style=\"darkgrid\")\n",
    "df = pd.read_csv('data/interval.csv')\n",
    "# df = df[df['interval']<20000]\n",
    "sns.kdeplot(df['interval'],shade=True)\n",
    "plt.show()"
   ],
   "metadata": {
    "collapsed": false,
    "pycharm": {
     "name": "#%%\n"
    }
   }
  },
  {
   "cell_type": "code",
   "execution_count": 25,
   "outputs": [
    {
     "name": "stdout",
     "output_type": "stream",
     "text": [
      "0.75\n",
      "0.6314102564102564\n"
     ]
    }
   ],
   "source": [
    "data = pd.read_csv('data/interval.csv')\n",
    "data = list(data['interval'])\n",
    "# data = [item for item in data if item < 10000]\n",
    "data_under_4000 = [item for item in data if item <4000]\n",
    "print(len(data_under_4000)/len(data))\n",
    "data_under_2000 = [item for item in data if item <2000]\n",
    "print(len(data_under_2000)/len(data))"
   ],
   "metadata": {
    "collapsed": false,
    "pycharm": {
     "name": "#%%\n"
    }
   }
  },
  {
   "cell_type": "code",
   "source": [
    "data = pd.read_csv('data/interval.csv')\n",
    "data.describe()"
   ],
   "metadata": {
    "collapsed": false,
    "pycharm": {
     "name": "#%%\n"
    }
   },
   "execution_count": 26,
   "outputs": [
    {
     "data": {
      "text/plain": "           interval\ncount    312.000000\nmean    3892.663462\nstd     6212.162941\nmin      200.000000\n25%      464.250000\n50%     1257.500000\n75%     3923.500000\nmax    39690.000000",
      "text/html": "<div>\n<style scoped>\n    .dataframe tbody tr th:only-of-type {\n        vertical-align: middle;\n    }\n\n    .dataframe tbody tr th {\n        vertical-align: top;\n    }\n\n    .dataframe thead th {\n        text-align: right;\n    }\n</style>\n<table border=\"1\" class=\"dataframe\">\n  <thead>\n    <tr style=\"text-align: right;\">\n      <th></th>\n      <th>interval</th>\n    </tr>\n  </thead>\n  <tbody>\n    <tr>\n      <th>count</th>\n      <td>312.000000</td>\n    </tr>\n    <tr>\n      <th>mean</th>\n      <td>3892.663462</td>\n    </tr>\n    <tr>\n      <th>std</th>\n      <td>6212.162941</td>\n    </tr>\n    <tr>\n      <th>min</th>\n      <td>200.000000</td>\n    </tr>\n    <tr>\n      <th>25%</th>\n      <td>464.250000</td>\n    </tr>\n    <tr>\n      <th>50%</th>\n      <td>1257.500000</td>\n    </tr>\n    <tr>\n      <th>75%</th>\n      <td>3923.500000</td>\n    </tr>\n    <tr>\n      <th>max</th>\n      <td>39690.000000</td>\n    </tr>\n  </tbody>\n</table>\n</div>"
     },
     "execution_count": 26,
     "metadata": {},
     "output_type": "execute_result"
    }
   ]
  },
  {
   "cell_type": "code",
   "execution_count": 15,
   "outputs": [
    {
     "name": "stdout",
     "output_type": "stream",
     "text": [
      "---------word_understand---------\n",
      "reading_times与word understanding:\n",
      "相关系数：-0.07668953859057362\n",
      "p value：0.0\n",
      "--------------------\n",
      "number_of_fixations与word understanding:\n",
      "相关系数：-0.11447680286362905\n",
      "p value：0.0\n",
      "--------------------\n",
      "\n",
      "---------sentence_understand---------\n",
      "second_pass_dwell_time_of_sentence与sentence understanding:\n",
      "相关系数：0.033758494186464025\n",
      "p value：0.0\n",
      "--------------------\n",
      "total_dwell_time_of_sentence与sentence understanding:\n",
      "相关系数：-0.16809584861278118\n",
      "p value：0.0\n",
      "--------------------\n",
      "reading_times_of_sentence与sentence understanding:\n",
      "相关系数：-0.14081267774543188\n",
      "p value：0.0\n",
      "--------------------\n",
      "saccade_times_of_sentence与sentence understanding:\n",
      "相关系数：-0.18585664171243915\n",
      "p value：0.0\n",
      "--------------------\n",
      "forward_times_of_sentence与sentence understanding:\n",
      "相关系数：-0.15452416842791425\n",
      "p value：0.0\n",
      "--------------------\n",
      "\n",
      "---------mind_wandering---------\n",
      "second_pass_dwell_time_of_sentence与mind wandering:\n",
      "相关系数：0.06375759417104111\n",
      "p value：0.0\n",
      "--------------------\n",
      "total_dwell_time_of_sentence与mind wandering:\n",
      "相关系数：-0.049647949311726926\n",
      "p value：0.0\n",
      "--------------------\n",
      "reading_times_of_sentence与mind wandering:\n",
      "相关系数：-0.041009161273086556\n",
      "p value：0.0\n",
      "--------------------\n",
      "saccade_times_of_sentence与mind wandering:\n",
      "相关系数：-0.0622844538234252\n",
      "p value：0.0\n",
      "--------------------\n",
      "forward_times_of_sentence与mind wandering:\n",
      "相关系数：-0.02434943743546847\n",
      "p value：1.0854526474099405e-228\n",
      "--------------------\n"
     ]
    }
   ],
   "source": [
    "import pandas as pd\n",
    "import numpy as np\n",
    "from scipy.stats import pearsonr\n",
    "columns = [x for x in range(6,17)]\n",
    "data = pd.read_csv('dataset/2022-11-17.csv',usecols=columns)\n",
    "\n",
    "cols = data.columns.tolist()[3:-1]\n",
    "feature_of_word = ['reading_times','number_of_fixations']\n",
    "feature_of_sentence = ['second_pass_dwell_time_of_sentence','total_dwell_time_of_sentence','reading_times_of_sentence','saccade_times_of_sentence','forward_times_of_sentence']\n",
    "\n",
    "print(\"---------word_understand---------\")\n",
    "for feature in feature_of_word:\n",
    "    col_data=np.array(data[feature])\n",
    "    word_understand=np.array(data['word_understand'])\n",
    "    pc=pearsonr(col_data,word_understand)\n",
    "    print(f\"{feature}与word understanding:\")\n",
    "    print(f\"相关系数：{pc[0]}\")\n",
    "    print(f\"p value：{pc[1]}\")\n",
    "    print(\"--------------------\")\n",
    "\n",
    "print(\"\\n---------sentence_understand---------\")\n",
    "for feature in feature_of_sentence:\n",
    "    col_data=np.array(data[feature])\n",
    "    word_understand=np.array(data['sentence_understand'])\n",
    "    pc=pearsonr(col_data,word_understand)\n",
    "    print(f\"{feature}与sentence understanding:\")\n",
    "    print(f\"相关系数：{pc[0]}\")\n",
    "    print(f\"p value：{pc[1]}\")\n",
    "    print(\"--------------------\")\n",
    "\n",
    "print(\"\\n---------mind_wandering---------\")\n",
    "for feature in feature_of_sentence:\n",
    "    col_data=np.array(data[feature])\n",
    "    word_understand=np.array(data['mind_wandering'])\n",
    "    pc=pearsonr(col_data,word_understand)\n",
    "    print(f\"{feature}与mind wandering:\")\n",
    "    print(f\"相关系数：{pc[0]}\")\n",
    "    print(f\"p value：{pc[1]}\")\n",
    "    print(\"--------------------\")"
   ],
   "metadata": {
    "collapsed": false,
    "pycharm": {
     "name": "#%%\n"
    }
   }
  },
  {
   "cell_type": "code",
   "execution_count": 16,
   "outputs": [
    {
     "name": "stdout",
     "output_type": "stream",
     "text": [
      "---------word_understand---------\n",
      "reading_times与word understanding:\n",
      "相关系数：-0.07726946498196306\n",
      "p value：0.0\n",
      "--------------------\n",
      "number_of_fixations与word understanding:\n",
      "相关系数：-0.11537004502897939\n",
      "p value：0.0\n",
      "--------------------\n",
      "\n",
      "---------sentence_understand---------\n",
      "second_pass_dwell_time_of_sentence与sentence understanding:\n",
      "相关系数：0.03451567304624223\n",
      "p value：8.532305592082633e-91\n",
      "--------------------\n",
      "total_dwell_time_of_sentence与sentence understanding:\n",
      "相关系数：-0.16568258433871566\n",
      "p value：0.0\n",
      "--------------------\n",
      "reading_times_of_sentence与sentence understanding:\n",
      "相关系数：-0.13864625458635163\n",
      "p value：0.0\n",
      "--------------------\n",
      "saccade_times_of_sentence与sentence understanding:\n",
      "相关系数：-0.1812542512993283\n",
      "p value：0.0\n",
      "--------------------\n",
      "forward_times_of_sentence与sentence understanding:\n",
      "相关系数：-0.15199398403257772\n",
      "p value：0.0\n",
      "--------------------\n",
      "\n",
      "---------mind_wandering---------\n",
      "second_pass_dwell_time_of_sentence与mind wandering:\n",
      "相关系数：0.0675069214057376\n",
      "p value：0.0\n",
      "--------------------\n",
      "total_dwell_time_of_sentence与mind wandering:\n",
      "相关系数：-0.049116363077852984\n",
      "p value：6.161861117388614e-182\n",
      "--------------------\n",
      "reading_times_of_sentence与mind wandering:\n",
      "相关系数：-0.041045449353072895\n",
      "p value：1.271261676789044e-127\n",
      "--------------------\n",
      "saccade_times_of_sentence与mind wandering:\n",
      "相关系数：-0.061206573124092015\n",
      "p value：1.5043916505952833e-281\n",
      "--------------------\n",
      "forward_times_of_sentence与mind wandering:\n",
      "相关系数：-0.024613676071605445\n",
      "p value：4.63059780420803e-47\n",
      "--------------------\n"
     ]
    }
   ],
   "source": [
    "import pandas as pd\n",
    "import numpy as np\n",
    "from scipy.stats import pearsonr\n",
    "columns = [x for x in range(6,17)]\n",
    "data = pd.read_csv('dataset/2022-11-20.csv',usecols=columns)\n",
    "\n",
    "feature_of_word = ['reading_times','number_of_fixations']\n",
    "feature_of_sentence = ['second_pass_dwell_time_of_sentence','total_dwell_time_of_sentence','reading_times_of_sentence','saccade_times_of_sentence','forward_times_of_sentence']\n",
    "\n",
    "print(\"---------word_understand---------\")\n",
    "for feature in feature_of_word:\n",
    "    col_data=np.array(data[feature])\n",
    "    word_understand=np.array(data['word_understand'])\n",
    "    pc=pearsonr(col_data,word_understand)\n",
    "    print(f\"{feature}与word understanding:\")\n",
    "    print(f\"相关系数：{pc[0]}\")\n",
    "    print(f\"p value：{pc[1]}\")\n",
    "    print(\"--------------------\")\n",
    "\n",
    "print(\"\\n---------sentence_understand---------\")\n",
    "for feature in feature_of_sentence:\n",
    "    col_data=np.array(data[feature])\n",
    "    word_understand=np.array(data['sentence_understand'])\n",
    "    pc=pearsonr(col_data,word_understand)\n",
    "    print(f\"{feature}与sentence understanding:\")\n",
    "    print(f\"相关系数：{pc[0]}\")\n",
    "    print(f\"p value：{pc[1]}\")\n",
    "    print(\"--------------------\")\n",
    "\n",
    "print(\"\\n---------mind_wandering---------\")\n",
    "for feature in feature_of_sentence:\n",
    "    col_data=np.array(data[feature])\n",
    "    word_understand=np.array(data['mind_wandering'])\n",
    "    pc=pearsonr(col_data,word_understand)\n",
    "    print(f\"{feature}与mind wandering:\")\n",
    "    print(f\"相关系数：{pc[0]}\")\n",
    "    print(f\"p value：{pc[1]}\")\n",
    "    print(\"--------------------\")"
   ],
   "metadata": {
    "collapsed": false,
    "pycharm": {
     "name": "#%%\n"
    }
   }
  },
  {
   "cell_type": "code",
   "execution_count": 19,
   "outputs": [
    {
     "name": "stdout",
     "output_type": "stream",
     "text": [
      "[3. 0. 0. ... 2. 0. 1.]与[0 0 0 ... 0 0 0]:\n",
      "相关系数：0.12045080885982018\n",
      "p value：0.0\n",
      "--------------------\n",
      "[3. 0. 0. ... 2. 0. 1.]与[0 0 0 ... 0 0 0]:\n",
      "相关系数：0.17329551109139923\n",
      "p value：0.0\n",
      "--------------------\n",
      "[9. 0. 0. ... 5. 0. 4.]与[0 0 0 ... 0 0 0]:\n",
      "相关系数：0.12452669156399283\n",
      "p value：0.0\n",
      "--------------------\n",
      "[9. 0. 0. ... 5. 0. 4.]与[0 0 0 ... 0 0 0]:\n",
      "相关系数：0.17571104357923403\n",
      "p value：0.0\n",
      "--------------------\n",
      "[  0. 645. 645. ...   0. 645. 601.]与[0 0 0 ... 0 0 0]:\n",
      "相关系数：-0.08215443182226184\n",
      "p value：0.0\n",
      "--------------------\n",
      "[  0. 645. 645. ...   0. 645. 601.]与[0 0 0 ... 0 0 0]:\n",
      "相关系数：-0.12013891844118221\n",
      "p value：0.0\n",
      "--------------------\n"
     ]
    }
   ],
   "source": [
    "import pandas as pd\n",
    "import numpy as np\n",
    "from scipy.stats import pearsonr\n",
    "columns = [x for x in range(6,17)]\n",
    "data = pd.read_csv('dataset/all_word_prediction_data.csv',usecols=columns)\n",
    "\n",
    "\n",
    "cols = data.columns.tolist()[2:-1]\n",
    "\n",
    "word_nlp_feature = ['syllable','length','familiar_score']\n",
    "word_visual_feature = ['reading_times','number_of_fixations']\n",
    "\n",
    "for nlp_feature in word_nlp_feature:\n",
    "    for visual_feature in word_visual_feature:\n",
    "        feature1 = np.array(data[nlp_feature])\n",
    "        feature2 = np.array(data[visual_feature])\n",
    "        pc=pearsonr(feature1,feature2)\n",
    "        print(f\"{nlp_feature}与{visual_feature}:\")\n",
    "        print(f\"相关系数：{pc[0]}\")\n",
    "        print(f\"p value：{pc[1]}\")\n",
    "        print(\"--------------------\")"
   ],
   "metadata": {
    "collapsed": false,
    "pycharm": {
     "name": "#%%\n"
    }
   }
  }
 ],
 "metadata": {
  "kernelspec": {
   "display_name": "Python 3",
   "language": "python",
   "name": "python3"
  },
  "language_info": {
   "codemirror_mode": {
    "name": "ipython",
    "version": 2
   },
   "file_extension": ".py",
   "mimetype": "text/x-python",
   "name": "python",
   "nbconvert_exporter": "python",
   "pygments_lexer": "ipython2",
   "version": "2.7.6"
  }
 },
 "nbformat": 4,
 "nbformat_minor": 0
}