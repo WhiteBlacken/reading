{
 "cells": [
  {
   "cell_type": "code",
   "execution_count": null,
   "outputs": [],
   "source": [
    "# Luqi"
   ],
   "metadata": {
    "collapsed": false,
    "pycharm": {
     "name": "#%%\n"
    }
   }
  },
  {
   "cell_type": "code",
   "execution_count": 2,
   "metadata": {
    "collapsed": true
   },
   "outputs": [
    {
     "data": {
      "text/plain": "         velocity\ncount  258.000000\nmean    59.485698\nstd     33.269309\nmin      2.486399\n25%     34.347884\n50%     57.507195\n75%     81.949798\nmax    193.390418",
      "text/html": "<div>\n<style scoped>\n    .dataframe tbody tr th:only-of-type {\n        vertical-align: middle;\n    }\n\n    .dataframe tbody tr th {\n        vertical-align: top;\n    }\n\n    .dataframe thead th {\n        text-align: right;\n    }\n</style>\n<table border=\"1\" class=\"dataframe\">\n  <thead>\n    <tr style=\"text-align: right;\">\n      <th></th>\n      <th>velocity</th>\n    </tr>\n  </thead>\n  <tbody>\n    <tr>\n      <th>count</th>\n      <td>258.000000</td>\n    </tr>\n    <tr>\n      <th>mean</th>\n      <td>59.485698</td>\n    </tr>\n    <tr>\n      <th>std</th>\n      <td>33.269309</td>\n    </tr>\n    <tr>\n      <th>min</th>\n      <td>2.486399</td>\n    </tr>\n    <tr>\n      <th>25%</th>\n      <td>34.347884</td>\n    </tr>\n    <tr>\n      <th>50%</th>\n      <td>57.507195</td>\n    </tr>\n    <tr>\n      <th>75%</th>\n      <td>81.949798</td>\n    </tr>\n    <tr>\n      <th>max</th>\n      <td>193.390418</td>\n    </tr>\n  </tbody>\n</table>\n</div>"
     },
     "execution_count": 2,
     "metadata": {},
     "output_type": "execute_result"
    }
   ],
   "source": [
    "# saccade velocity\n",
    "\n",
    "import pandas as pd\n",
    "luqi_1021 = pd.read_csv('data/luqi-1021.csv')\n",
    "\n",
    "luqi_1021.describe()"
   ]
  },
  {
   "cell_type": "code",
   "execution_count": 6,
   "outputs": [
    {
     "data": {
      "text/plain": "         velocity\ncount  173.000000\nmean    76.488208\nstd     27.980387\nmin      5.798426\n25%     55.706067\n50%     77.857131\n75%     98.719982\nmax    139.781729",
      "text/html": "<div>\n<style scoped>\n    .dataframe tbody tr th:only-of-type {\n        vertical-align: middle;\n    }\n\n    .dataframe tbody tr th {\n        vertical-align: top;\n    }\n\n    .dataframe thead th {\n        text-align: right;\n    }\n</style>\n<table border=\"1\" class=\"dataframe\">\n  <thead>\n    <tr style=\"text-align: right;\">\n      <th></th>\n      <th>velocity</th>\n    </tr>\n  </thead>\n  <tbody>\n    <tr>\n      <th>count</th>\n      <td>173.000000</td>\n    </tr>\n    <tr>\n      <th>mean</th>\n      <td>76.488208</td>\n    </tr>\n    <tr>\n      <th>std</th>\n      <td>27.980387</td>\n    </tr>\n    <tr>\n      <th>min</th>\n      <td>5.798426</td>\n    </tr>\n    <tr>\n      <th>25%</th>\n      <td>55.706067</td>\n    </tr>\n    <tr>\n      <th>50%</th>\n      <td>77.857131</td>\n    </tr>\n    <tr>\n      <th>75%</th>\n      <td>98.719982</td>\n    </tr>\n    <tr>\n      <th>max</th>\n      <td>139.781729</td>\n    </tr>\n  </tbody>\n</table>\n</div>"
     },
     "execution_count": 6,
     "metadata": {},
     "output_type": "execute_result"
    }
   ],
   "source": [
    "import pandas as pd\n",
    "lq_1229 = pd.read_csv('data/luqi-1229.csv')\n",
    "lq_1229.describe()"
   ],
   "metadata": {
    "collapsed": false,
    "pycharm": {
     "name": "#%%\n"
    }
   }
  },
  {
   "cell_type": "code",
   "execution_count": 5,
   "outputs": [
    {
     "data": {
      "text/plain": "         velocity\ncount  173.000000\nmean    76.488208\nstd     27.980387\nmin      5.798426\n25%     55.706067\n50%     77.857131\n75%     98.719982\nmax    139.781729",
      "text/html": "<div>\n<style scoped>\n    .dataframe tbody tr th:only-of-type {\n        vertical-align: middle;\n    }\n\n    .dataframe tbody tr th {\n        vertical-align: top;\n    }\n\n    .dataframe thead th {\n        text-align: right;\n    }\n</style>\n<table border=\"1\" class=\"dataframe\">\n  <thead>\n    <tr style=\"text-align: right;\">\n      <th></th>\n      <th>velocity</th>\n    </tr>\n  </thead>\n  <tbody>\n    <tr>\n      <th>count</th>\n      <td>173.000000</td>\n    </tr>\n    <tr>\n      <th>mean</th>\n      <td>76.488208</td>\n    </tr>\n    <tr>\n      <th>std</th>\n      <td>27.980387</td>\n    </tr>\n    <tr>\n      <th>min</th>\n      <td>5.798426</td>\n    </tr>\n    <tr>\n      <th>25%</th>\n      <td>55.706067</td>\n    </tr>\n    <tr>\n      <th>50%</th>\n      <td>77.857131</td>\n    </tr>\n    <tr>\n      <th>75%</th>\n      <td>98.719982</td>\n    </tr>\n    <tr>\n      <th>max</th>\n      <td>139.781729</td>\n    </tr>\n  </tbody>\n</table>\n</div>"
     },
     "execution_count": 5,
     "metadata": {},
     "output_type": "execute_result"
    }
   ],
   "source": [
    "import pandas as pd\n",
    "lq_1229 = pd.read_csv('data/luqi-1229.csv')\n",
    "lq_1229.describe()\n"
   ],
   "metadata": {
    "collapsed": false,
    "pycharm": {
     "name": "#%%\n"
    }
   }
  },
  {
   "cell_type": "code",
   "execution_count": null,
   "outputs": [],
   "source": [
    "qxy_1253 = pd.read_csv('data/qxy-1253.csv')\n",
    "qxy_1253.describe()\n"
   ],
   "metadata": {
    "collapsed": false,
    "pycharm": {
     "name": "#%%\n"
    }
   }
  },
  {
   "cell_type": "code",
   "execution_count": null,
   "outputs": [],
   "source": [
    "qxy_1281 = pd.read_csv('data/qxy-1281.csv')\n",
    "qxy_1281.describe()"
   ],
   "metadata": {
    "collapsed": false,
    "pycharm": {
     "name": "#%%\n"
    }
   }
  },
  {
   "cell_type": "code",
   "execution_count": null,
   "outputs": [],
   "source": [
    "qxy_1283 = pd.read_csv('data/qxy-1283.csv')\n",
    "qxy_1283.describe()"
   ],
   "metadata": {
    "collapsed": false,
    "pycharm": {
     "name": "#%%\n"
    }
   }
  },
  {
   "cell_type": "code",
   "execution_count": null,
   "outputs": [],
   "source": [
    "qxy_1285 = pd.read_csv('data/qxy-1285.csv')\n",
    "qxy_1285.describe()"
   ],
   "metadata": {
    "collapsed": false,
    "pycharm": {
     "name": "#%%\n"
    }
   }
  },
  {
   "cell_type": "code",
   "execution_count": null,
   "outputs": [],
   "source": [
    "pwt_1243 = pd.read_csv('data/pwt-1243.csv')\n",
    "pwt_1243.describe()"
   ],
   "metadata": {
    "collapsed": false,
    "pycharm": {
     "name": "#%%\n"
    }
   }
  },
  {
   "cell_type": "code",
   "execution_count": null,
   "outputs": [],
   "source": [
    "pwt_1245 = pd.read_csv('data/pwt-1245.csv')\n",
    "pwt_1245.describe()"
   ],
   "metadata": {
    "collapsed": false,
    "pycharm": {
     "name": "#%%\n"
    }
   }
  },
  {
   "cell_type": "code",
   "execution_count": null,
   "outputs": [],
   "source": [
    "pwt_1288 = pd.read_csv('data/pwt-1288.csv')\n",
    "pwt_1288.describe()"
   ],
   "metadata": {
    "collapsed": false,
    "pycharm": {
     "name": "#%%\n"
    }
   }
  },
  {
   "cell_type": "code",
   "execution_count": null,
   "outputs": [],
   "source": [
    "luzhouyang_1319 = pd.read_csv('data/luzhouyang-1319.csv')\n",
    "luzhouyang_1319.describe()"
   ],
   "metadata": {
    "collapsed": false,
    "pycharm": {
     "name": "#%%\n"
    }
   }
  }
 ],
 "metadata": {
  "kernelspec": {
   "display_name": "Python 3",
   "language": "python",
   "name": "python3"
  },
  "language_info": {
   "codemirror_mode": {
    "name": "ipython",
    "version": 2
   },
   "file_extension": ".py",
   "mimetype": "text/x-python",
   "name": "python",
   "nbconvert_exporter": "python",
   "pygments_lexer": "ipython2",
   "version": "2.7.6"
  }
 },
 "nbformat": 4,
 "nbformat_minor": 0
}