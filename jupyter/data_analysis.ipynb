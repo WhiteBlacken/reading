{
 "cells": [
  {
   "cell_type": "code",
   "execution_count": null,
   "outputs": [],
   "source": [
    "# Luqi"
   ],
   "metadata": {
    "collapsed": false,
    "pycharm": {
     "name": "#%%\n"
    }
   }
  },
  {
   "cell_type": "code",
   "execution_count": 2,
   "metadata": {
    "collapsed": true
   },
   "outputs": [
    {
     "data": {
      "text/plain": "         velocity\ncount  258.000000\nmean    59.485698\nstd     33.269309\nmin      2.486399\n25%     34.347884\n50%     57.507195\n75%     81.949798\nmax    193.390418",
      "text/html": "<div>\n<style scoped>\n    .dataframe tbody tr th:only-of-type {\n        vertical-align: middle;\n    }\n\n    .dataframe tbody tr th {\n        vertical-align: top;\n    }\n\n    .dataframe thead th {\n        text-align: right;\n    }\n</style>\n<table border=\"1\" class=\"dataframe\">\n  <thead>\n    <tr style=\"text-align: right;\">\n      <th></th>\n      <th>velocity</th>\n    </tr>\n  </thead>\n  <tbody>\n    <tr>\n      <th>count</th>\n      <td>258.000000</td>\n    </tr>\n    <tr>\n      <th>mean</th>\n      <td>59.485698</td>\n    </tr>\n    <tr>\n      <th>std</th>\n      <td>33.269309</td>\n    </tr>\n    <tr>\n      <th>min</th>\n      <td>2.486399</td>\n    </tr>\n    <tr>\n      <th>25%</th>\n      <td>34.347884</td>\n    </tr>\n    <tr>\n      <th>50%</th>\n      <td>57.507195</td>\n    </tr>\n    <tr>\n      <th>75%</th>\n      <td>81.949798</td>\n    </tr>\n    <tr>\n      <th>max</th>\n      <td>193.390418</td>\n    </tr>\n  </tbody>\n</table>\n</div>"
     },
     "execution_count": 2,
     "metadata": {},
     "output_type": "execute_result"
    }
   ],
   "source": [
    "# saccade velocity\n",
    "\n",
    "import pandas as pd\n",
    "luqi_1021 = pd.read_csv('data/luqi-1021.csv')\n",
    "\n",
    "luqi_1021.describe()"
   ]
  },
  {
   "cell_type": "code",
   "execution_count": 3,
   "outputs": [
    {
     "data": {
      "text/plain": "         velocity\ncount  192.000000\nmean    49.630220\nstd     27.329293\nmin      4.494345\n25%     27.291949\n50%     46.690905\n75%     69.678957\nmax    133.904369",
      "text/html": "<div>\n<style scoped>\n    .dataframe tbody tr th:only-of-type {\n        vertical-align: middle;\n    }\n\n    .dataframe tbody tr th {\n        vertical-align: top;\n    }\n\n    .dataframe thead th {\n        text-align: right;\n    }\n</style>\n<table border=\"1\" class=\"dataframe\">\n  <thead>\n    <tr style=\"text-align: right;\">\n      <th></th>\n      <th>velocity</th>\n    </tr>\n  </thead>\n  <tbody>\n    <tr>\n      <th>count</th>\n      <td>192.000000</td>\n    </tr>\n    <tr>\n      <th>mean</th>\n      <td>49.630220</td>\n    </tr>\n    <tr>\n      <th>std</th>\n      <td>27.329293</td>\n    </tr>\n    <tr>\n      <th>min</th>\n      <td>4.494345</td>\n    </tr>\n    <tr>\n      <th>25%</th>\n      <td>27.291949</td>\n    </tr>\n    <tr>\n      <th>50%</th>\n      <td>46.690905</td>\n    </tr>\n    <tr>\n      <th>75%</th>\n      <td>69.678957</td>\n    </tr>\n    <tr>\n      <th>max</th>\n      <td>133.904369</td>\n    </tr>\n  </tbody>\n</table>\n</div>"
     },
     "execution_count": 3,
     "metadata": {},
     "output_type": "execute_result"
    }
   ],
   "source": [
    "lq_1229 = pd.read_csv('data/luqi-1229.csv')\n",
    "lq_1229.describe()"
   ],
   "metadata": {
    "collapsed": false,
    "pycharm": {
     "name": "#%%\n"
    }
   }
  },
  {
   "cell_type": "code",
   "execution_count": 4,
   "outputs": [
    {
     "data": {
      "text/plain": "         velocity\ncount  130.000000\nmean    39.463426\nstd     26.806520\nmin      1.714126\n25%     19.760632\n50%     34.079339\n75%     53.571515\nmax    131.243398",
      "text/html": "<div>\n<style scoped>\n    .dataframe tbody tr th:only-of-type {\n        vertical-align: middle;\n    }\n\n    .dataframe tbody tr th {\n        vertical-align: top;\n    }\n\n    .dataframe thead th {\n        text-align: right;\n    }\n</style>\n<table border=\"1\" class=\"dataframe\">\n  <thead>\n    <tr style=\"text-align: right;\">\n      <th></th>\n      <th>velocity</th>\n    </tr>\n  </thead>\n  <tbody>\n    <tr>\n      <th>count</th>\n      <td>130.000000</td>\n    </tr>\n    <tr>\n      <th>mean</th>\n      <td>39.463426</td>\n    </tr>\n    <tr>\n      <th>std</th>\n      <td>26.806520</td>\n    </tr>\n    <tr>\n      <th>min</th>\n      <td>1.714126</td>\n    </tr>\n    <tr>\n      <th>25%</th>\n      <td>19.760632</td>\n    </tr>\n    <tr>\n      <th>50%</th>\n      <td>34.079339</td>\n    </tr>\n    <tr>\n      <th>75%</th>\n      <td>53.571515</td>\n    </tr>\n    <tr>\n      <th>max</th>\n      <td>131.243398</td>\n    </tr>\n  </tbody>\n</table>\n</div>"
     },
     "execution_count": 4,
     "metadata": {},
     "output_type": "execute_result"
    }
   ],
   "source": [
    "qxy_1253 = pd.read_csv('data/qxy-1253.csv')\n",
    "qxy_1253.describe()\n"
   ],
   "metadata": {
    "collapsed": false,
    "pycharm": {
     "name": "#%%\n"
    }
   }
  },
  {
   "cell_type": "code",
   "execution_count": 5,
   "outputs": [
    {
     "data": {
      "text/plain": "         velocity\ncount  158.000000\nmean    42.938684\nstd     29.116186\nmin      1.854426\n25%     23.049398\n50%     36.751564\n75%     63.908965\nmax    155.963312",
      "text/html": "<div>\n<style scoped>\n    .dataframe tbody tr th:only-of-type {\n        vertical-align: middle;\n    }\n\n    .dataframe tbody tr th {\n        vertical-align: top;\n    }\n\n    .dataframe thead th {\n        text-align: right;\n    }\n</style>\n<table border=\"1\" class=\"dataframe\">\n  <thead>\n    <tr style=\"text-align: right;\">\n      <th></th>\n      <th>velocity</th>\n    </tr>\n  </thead>\n  <tbody>\n    <tr>\n      <th>count</th>\n      <td>158.000000</td>\n    </tr>\n    <tr>\n      <th>mean</th>\n      <td>42.938684</td>\n    </tr>\n    <tr>\n      <th>std</th>\n      <td>29.116186</td>\n    </tr>\n    <tr>\n      <th>min</th>\n      <td>1.854426</td>\n    </tr>\n    <tr>\n      <th>25%</th>\n      <td>23.049398</td>\n    </tr>\n    <tr>\n      <th>50%</th>\n      <td>36.751564</td>\n    </tr>\n    <tr>\n      <th>75%</th>\n      <td>63.908965</td>\n    </tr>\n    <tr>\n      <th>max</th>\n      <td>155.963312</td>\n    </tr>\n  </tbody>\n</table>\n</div>"
     },
     "execution_count": 5,
     "metadata": {},
     "output_type": "execute_result"
    }
   ],
   "source": [
    "qxy_1281 = pd.read_csv('data/qxy-1281.csv')\n",
    "qxy_1281.describe()"
   ],
   "metadata": {
    "collapsed": false,
    "pycharm": {
     "name": "#%%\n"
    }
   }
  },
  {
   "cell_type": "code",
   "execution_count": 15,
   "outputs": [
    {
     "data": {
      "text/plain": "         velocity\ncount   77.000000\nmean   100.740872\nstd    119.906074\nmin      9.382170\n25%     29.445872\n50%     49.198246\n75%     97.700632\nmax    579.545251",
      "text/html": "<div>\n<style scoped>\n    .dataframe tbody tr th:only-of-type {\n        vertical-align: middle;\n    }\n\n    .dataframe tbody tr th {\n        vertical-align: top;\n    }\n\n    .dataframe thead th {\n        text-align: right;\n    }\n</style>\n<table border=\"1\" class=\"dataframe\">\n  <thead>\n    <tr style=\"text-align: right;\">\n      <th></th>\n      <th>velocity</th>\n    </tr>\n  </thead>\n  <tbody>\n    <tr>\n      <th>count</th>\n      <td>77.000000</td>\n    </tr>\n    <tr>\n      <th>mean</th>\n      <td>100.740872</td>\n    </tr>\n    <tr>\n      <th>std</th>\n      <td>119.906074</td>\n    </tr>\n    <tr>\n      <th>min</th>\n      <td>9.382170</td>\n    </tr>\n    <tr>\n      <th>25%</th>\n      <td>29.445872</td>\n    </tr>\n    <tr>\n      <th>50%</th>\n      <td>49.198246</td>\n    </tr>\n    <tr>\n      <th>75%</th>\n      <td>97.700632</td>\n    </tr>\n    <tr>\n      <th>max</th>\n      <td>579.545251</td>\n    </tr>\n  </tbody>\n</table>\n</div>"
     },
     "execution_count": 15,
     "metadata": {},
     "output_type": "execute_result"
    }
   ],
   "source": [
    "qxy_1283 = pd.read_csv('data/qxy-1283.csv')\n",
    "qxy_1283.describe()"
   ],
   "metadata": {
    "collapsed": false,
    "pycharm": {
     "name": "#%%\n"
    }
   }
  },
  {
   "cell_type": "code",
   "execution_count": 14,
   "outputs": [
    {
     "data": {
      "text/plain": "         velocity\ncount   67.000000\nmean   108.013714\nstd    121.932290\nmin      3.305896\n25%     27.401651\n50%     51.056742\n75%    134.881327\nmax    431.509412",
      "text/html": "<div>\n<style scoped>\n    .dataframe tbody tr th:only-of-type {\n        vertical-align: middle;\n    }\n\n    .dataframe tbody tr th {\n        vertical-align: top;\n    }\n\n    .dataframe thead th {\n        text-align: right;\n    }\n</style>\n<table border=\"1\" class=\"dataframe\">\n  <thead>\n    <tr style=\"text-align: right;\">\n      <th></th>\n      <th>velocity</th>\n    </tr>\n  </thead>\n  <tbody>\n    <tr>\n      <th>count</th>\n      <td>67.000000</td>\n    </tr>\n    <tr>\n      <th>mean</th>\n      <td>108.013714</td>\n    </tr>\n    <tr>\n      <th>std</th>\n      <td>121.932290</td>\n    </tr>\n    <tr>\n      <th>min</th>\n      <td>3.305896</td>\n    </tr>\n    <tr>\n      <th>25%</th>\n      <td>27.401651</td>\n    </tr>\n    <tr>\n      <th>50%</th>\n      <td>51.056742</td>\n    </tr>\n    <tr>\n      <th>75%</th>\n      <td>134.881327</td>\n    </tr>\n    <tr>\n      <th>max</th>\n      <td>431.509412</td>\n    </tr>\n  </tbody>\n</table>\n</div>"
     },
     "execution_count": 14,
     "metadata": {},
     "output_type": "execute_result"
    }
   ],
   "source": [
    "qxy_1285 = pd.read_csv('data/qxy-1285.csv')\n",
    "qxy_1285.describe()"
   ],
   "metadata": {
    "collapsed": false,
    "pycharm": {
     "name": "#%%\n"
    }
   }
  },
  {
   "cell_type": "code",
   "execution_count": 16,
   "outputs": [
    {
     "data": {
      "text/plain": "         velocity\ncount   41.000000\nmean    53.182947\nstd     63.870668\nmin      0.779977\n25%      8.783653\n50%     20.028298\n75%     70.653864\nmax    207.597594",
      "text/html": "<div>\n<style scoped>\n    .dataframe tbody tr th:only-of-type {\n        vertical-align: middle;\n    }\n\n    .dataframe tbody tr th {\n        vertical-align: top;\n    }\n\n    .dataframe thead th {\n        text-align: right;\n    }\n</style>\n<table border=\"1\" class=\"dataframe\">\n  <thead>\n    <tr style=\"text-align: right;\">\n      <th></th>\n      <th>velocity</th>\n    </tr>\n  </thead>\n  <tbody>\n    <tr>\n      <th>count</th>\n      <td>41.000000</td>\n    </tr>\n    <tr>\n      <th>mean</th>\n      <td>53.182947</td>\n    </tr>\n    <tr>\n      <th>std</th>\n      <td>63.870668</td>\n    </tr>\n    <tr>\n      <th>min</th>\n      <td>0.779977</td>\n    </tr>\n    <tr>\n      <th>25%</th>\n      <td>8.783653</td>\n    </tr>\n    <tr>\n      <th>50%</th>\n      <td>20.028298</td>\n    </tr>\n    <tr>\n      <th>75%</th>\n      <td>70.653864</td>\n    </tr>\n    <tr>\n      <th>max</th>\n      <td>207.597594</td>\n    </tr>\n  </tbody>\n</table>\n</div>"
     },
     "execution_count": 16,
     "metadata": {},
     "output_type": "execute_result"
    }
   ],
   "source": [
    "pwt_1243 = pd.read_csv('data/pwt-1243.csv')\n",
    "pwt_1243.describe()"
   ],
   "metadata": {
    "collapsed": false,
    "pycharm": {
     "name": "#%%\n"
    }
   }
  },
  {
   "cell_type": "code",
   "execution_count": 17,
   "outputs": [
    {
     "data": {
      "text/plain": "         velocity\ncount   63.000000\nmean    88.355223\nstd    116.853911\nmin      5.000487\n25%     17.504209\n50%     45.747401\n75%    103.410702\nmax    648.949950",
      "text/html": "<div>\n<style scoped>\n    .dataframe tbody tr th:only-of-type {\n        vertical-align: middle;\n    }\n\n    .dataframe tbody tr th {\n        vertical-align: top;\n    }\n\n    .dataframe thead th {\n        text-align: right;\n    }\n</style>\n<table border=\"1\" class=\"dataframe\">\n  <thead>\n    <tr style=\"text-align: right;\">\n      <th></th>\n      <th>velocity</th>\n    </tr>\n  </thead>\n  <tbody>\n    <tr>\n      <th>count</th>\n      <td>63.000000</td>\n    </tr>\n    <tr>\n      <th>mean</th>\n      <td>88.355223</td>\n    </tr>\n    <tr>\n      <th>std</th>\n      <td>116.853911</td>\n    </tr>\n    <tr>\n      <th>min</th>\n      <td>5.000487</td>\n    </tr>\n    <tr>\n      <th>25%</th>\n      <td>17.504209</td>\n    </tr>\n    <tr>\n      <th>50%</th>\n      <td>45.747401</td>\n    </tr>\n    <tr>\n      <th>75%</th>\n      <td>103.410702</td>\n    </tr>\n    <tr>\n      <th>max</th>\n      <td>648.949950</td>\n    </tr>\n  </tbody>\n</table>\n</div>"
     },
     "execution_count": 17,
     "metadata": {},
     "output_type": "execute_result"
    }
   ],
   "source": [
    "pwt_1245 = pd.read_csv('data/pwt-1245.csv')\n",
    "pwt_1245.describe()"
   ],
   "metadata": {
    "collapsed": false,
    "pycharm": {
     "name": "#%%\n"
    }
   }
  },
  {
   "cell_type": "code",
   "execution_count": 18,
   "outputs": [
    {
     "data": {
      "text/plain": "         velocity\ncount   91.000000\nmean   141.641239\nstd    119.442314\nmin      7.862293\n25%     54.695675\n50%    102.928570\n75%    196.672119\nmax    639.694469",
      "text/html": "<div>\n<style scoped>\n    .dataframe tbody tr th:only-of-type {\n        vertical-align: middle;\n    }\n\n    .dataframe tbody tr th {\n        vertical-align: top;\n    }\n\n    .dataframe thead th {\n        text-align: right;\n    }\n</style>\n<table border=\"1\" class=\"dataframe\">\n  <thead>\n    <tr style=\"text-align: right;\">\n      <th></th>\n      <th>velocity</th>\n    </tr>\n  </thead>\n  <tbody>\n    <tr>\n      <th>count</th>\n      <td>91.000000</td>\n    </tr>\n    <tr>\n      <th>mean</th>\n      <td>141.641239</td>\n    </tr>\n    <tr>\n      <th>std</th>\n      <td>119.442314</td>\n    </tr>\n    <tr>\n      <th>min</th>\n      <td>7.862293</td>\n    </tr>\n    <tr>\n      <th>25%</th>\n      <td>54.695675</td>\n    </tr>\n    <tr>\n      <th>50%</th>\n      <td>102.928570</td>\n    </tr>\n    <tr>\n      <th>75%</th>\n      <td>196.672119</td>\n    </tr>\n    <tr>\n      <th>max</th>\n      <td>639.694469</td>\n    </tr>\n  </tbody>\n</table>\n</div>"
     },
     "execution_count": 18,
     "metadata": {},
     "output_type": "execute_result"
    }
   ],
   "source": [
    "pwt_1288 = pd.read_csv('data/pwt-1288.csv')\n",
    "pwt_1288.describe()"
   ],
   "metadata": {
    "collapsed": false,
    "pycharm": {
     "name": "#%%\n"
    }
   }
  },
  {
   "cell_type": "code",
   "execution_count": 22,
   "outputs": [
    {
     "data": {
      "text/plain": "         velocity\ncount   77.000000\nmean    97.319989\nstd     91.198542\nmin      3.143014\n25%     25.338562\n50%     80.228601\n75%    135.311930\nmax    443.006002",
      "text/html": "<div>\n<style scoped>\n    .dataframe tbody tr th:only-of-type {\n        vertical-align: middle;\n    }\n\n    .dataframe tbody tr th {\n        vertical-align: top;\n    }\n\n    .dataframe thead th {\n        text-align: right;\n    }\n</style>\n<table border=\"1\" class=\"dataframe\">\n  <thead>\n    <tr style=\"text-align: right;\">\n      <th></th>\n      <th>velocity</th>\n    </tr>\n  </thead>\n  <tbody>\n    <tr>\n      <th>count</th>\n      <td>77.000000</td>\n    </tr>\n    <tr>\n      <th>mean</th>\n      <td>97.319989</td>\n    </tr>\n    <tr>\n      <th>std</th>\n      <td>91.198542</td>\n    </tr>\n    <tr>\n      <th>min</th>\n      <td>3.143014</td>\n    </tr>\n    <tr>\n      <th>25%</th>\n      <td>25.338562</td>\n    </tr>\n    <tr>\n      <th>50%</th>\n      <td>80.228601</td>\n    </tr>\n    <tr>\n      <th>75%</th>\n      <td>135.311930</td>\n    </tr>\n    <tr>\n      <th>max</th>\n      <td>443.006002</td>\n    </tr>\n  </tbody>\n</table>\n</div>"
     },
     "execution_count": 22,
     "metadata": {},
     "output_type": "execute_result"
    }
   ],
   "source": [
    "luzhouyang_1319 = pd.read_csv('data/luzhouyang-1319.csv')\n",
    "luzhouyang_1319.describe()"
   ],
   "metadata": {
    "collapsed": false,
    "pycharm": {
     "name": "#%%\n"
    }
   }
  }
 ],
 "metadata": {
  "kernelspec": {
   "display_name": "Python 3",
   "language": "python",
   "name": "python3"
  },
  "language_info": {
   "codemirror_mode": {
    "name": "ipython",
    "version": 2
   },
   "file_extension": ".py",
   "mimetype": "text/x-python",
   "name": "python",
   "nbconvert_exporter": "python",
   "pygments_lexer": "ipython2",
   "version": "2.7.6"
  }
 },
 "nbformat": 4,
 "nbformat_minor": 0
}